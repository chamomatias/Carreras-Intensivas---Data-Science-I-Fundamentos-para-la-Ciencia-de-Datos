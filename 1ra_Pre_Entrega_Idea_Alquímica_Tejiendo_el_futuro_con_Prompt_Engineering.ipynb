{
  "nbformat": 4,
  "nbformat_minor": 0,
  "metadata": {
    "colab": {
      "provenance": [],
      "authorship_tag": "ABX9TyPvDhnfwXBq4Szd6xfMVVGw",
      "include_colab_link": true
    },
    "kernelspec": {
      "name": "python3",
      "display_name": "Python 3"
    },
    "language_info": {
      "name": "python"
    }
  },
  "cells": [
    {
      "cell_type": "markdown",
      "metadata": {
        "id": "view-in-github",
        "colab_type": "text"
      },
      "source": [
        "<a href=\"https://colab.research.google.com/github/chamomatias/Carreras-Intensivas---Data-Science-I-Fundamentos-para-la-Ciencia-de-Datos/blob/main/1ra_Pre_Entrega_Idea_Alqu%C3%ADmica_Tejiendo_el_futuro_con_Prompt_Engineering.ipynb\" target=\"_parent\"><img src=\"https://colab.research.google.com/assets/colab-badge.svg\" alt=\"Open In Colab\"/></a>"
      ]
    },
    {
      "cell_type": "markdown",
      "source": [
        "# Proyecto: *DecoIA - Asistente de Decoración Personalizada en Python*\n"
      ],
      "metadata": {
        "id": "y_mjNqJBS_iQ"
      }
    },
    {
      "cell_type": "markdown",
      "source": [
        "## I. Presentación del Problema a Abordar\n",
        "\n",
        "Decorar los ambientes de una casa de forma que reflejen la personalidad y necesidades de sus ocupantes puede resultar un proceso complicado y abrumador. Muchos usuarios no cuentan con asesoría profesional y se enfrentan a la dificultad de combinar estilos, colores y mobiliario de manera coherente y funcional.\n",
        "\n",
        "### Relevancia y Problemática\n",
        "\n",
        "- **Personalización Compleja:** Traducir aspectos subjetivos como gustos, hábitos y necesidades en una propuesta de decoración armoniosa requiere conocimiento en diseño y un análisis detallado de la identidad del usuario.\n",
        "- **Elección de la Paleta de Colores:** La selección adecuada de colores es crucial para crear ambientes agradables y funcionales, pero puede ser un proceso tedioso sin herramientas de ayuda.\n",
        "- **Acceso y Costo:** Muchos usuarios buscan soluciones prácticas y de bajo costo que les permitan visualizar ideas de decoración sin tener que recurrir a servicios de diseño profesional.\n",
        "\n",
        "---\n"
      ],
      "metadata": {
        "id": "ryfazG10TOfr"
      }
    },
    {
      "cell_type": "markdown",
      "source": [
        "## II. Desarrollo de la Propuesta de Solución\n",
        "\n",
        "### Objetivo General\n",
        "\n",
        "Desarrollar un notebook interactivo en Python que, mediante la entrada de datos proporcionados por el usuario, genere una propuesta de decoración personalizada para un ambiente específico de la casa. La propuesta incluirá una descripción textual y una imagen ilustrativa con la paleta de colores recomendada.\n",
        "\n",
        "---\n",
        "\n"
      ],
      "metadata": {
        "id": "UTAufXP9TVCb"
      }
    },
    {
      "cell_type": "markdown",
      "source": [
        "### Etapas del Proyecto\n",
        "\n",
        "#### 1. Recopilación de Datos\n",
        "\n",
        "- **Entrada de Información:**\n",
        "  En el notebook se solicitará al usuario ingresar datos a través de celdas interactivas o mediante la función `input()`, incluyendo:\n",
        "  - Descripción de su personalidad (por ejemplo: minimalista, moderno).\n",
        "  - Hábitos y necesidades (por ejemplo: requiere espacio para trabajar, zona de relax, etc.).\n",
        "  - Gustos personales y preferencias en estilos decorativos.\n",
        "  - Preferencias o restricciones en la elección de colores (colores favoritos y aquellos a evitar).\n",
        "  - Tipo de ambiente a decorar (Sala, Dormitorio, Cocina, Oficina, etc.).\n",
        "\n",
        "---\n"
      ],
      "metadata": {
        "id": "jUZys51pTgwf"
      }
    },
    {
      "cell_type": "markdown",
      "source": [
        "#### 2. Generación de la Propuesta Textual (Texto a Texto)\n",
        "\n",
        "- **Uso de un Modelo de IA:**\n",
        "  Se integrará la API de OpenAI (por ejemplo, ChatGPT) para transformar la información ingresada en una propuesta de decoración.\n",
        "\n",
        "- **Ejemplo de Prompt:**\n",
        "  ```\n",
        "  Con la siguiente información:\n",
        "  Personalidad: [datos]\n",
        "  Hábitos y necesidades: [datos]\n",
        "  Estilo y gustos: [datos]\n",
        "  Preferencias de colores: [datos]\n",
        "  Ambiente a decorar: [nombre del ambiente]\n",
        "  Genera un concepto de decoración para este ambiente que incluya recomendaciones sobre la distribución del espacio, mobiliario y una paleta de colores que armonice con la identidad del usuario. Describe detalladamente las propuestas de diseño.\n",
        "  ```\n",
        "\n",
        "---\n"
      ],
      "metadata": {
        "id": "ruiKEk5sTlau"
      }
    },
    {
      "cell_type": "markdown",
      "source": [
        "#### 3. Generación de la Imagen Ilustrativa (Texto a Imagen)\n",
        "\n",
        "- **Uso de un Modelo de IA para Imágenes:**\n",
        "  Utilizando la respuesta generada en la etapa anterior, se construirá un prompt para un modelo de generación de imágenes (por ejemplo, DALL·E o Stable Diffusion).\n",
        "\n",
        "- **Ejemplo de Prompt para Imagen:**\n",
        "  ```\n",
        "  Genera una imagen realista y detallada de un ambiente [nombre del ambiente] decorado según la siguiente descripción:\n",
        "  [descripción generada]\n",
        "  La imagen debe resaltar la paleta de colores y el estilo decorativo recomendado.\n",
        "  ```\n",
        "\n",
        "---\n"
      ],
      "metadata": {
        "id": "zQjZxqP2TpYG"
      }
    },
    {
      "cell_type": "markdown",
      "source": [
        "## Conclusión\n",
        "\n",
        "Este notebook interactivo en Google Colab permite experimentar y ajustar la propuesta de decoración utilizando ingeniería de prompts para integrar modelos de generación de texto e imagen. Es una solución práctica y educativa que aprovecha herramientas accesibles para visualizar ideas de decoración de forma personalizada.\n"
      ],
      "metadata": {
        "id": "ltglRvWOTvsk"
      }
    }
  ]
}